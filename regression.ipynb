{
 "cells": [
  {
   "cell_type": "markdown",
   "metadata": {},
   "source": [
    "## Part 1: Quick (and dirty) EDA\n",
    "\n",
    "**TIP: Do this data exploration in a \"scrap\" file so you can explore quickly and messily.**\n",
    "\n",
    "_We are going to use this dataset (`input_data2/housing_train.csv`) for the regression and ML assignments, as well as the prediction contest. The general focus will be on modelling the **Sale Price** (`v_SalePrice`)._\n",
    "\n",
    "You should do the usual data exploration. \n",
    "- Sample basics: What is the unit of observation? What time spans are covered?\n",
    "- Look for outliers, missing values, or data errors\n",
    "- Note what variables are continuous or discrete numbers, which variables are categorical variables (and whether the categorical ordering is meaningful)     \n",
    "- You should read up on what all the variables mean from the documentation in the data folder.\n",
    "- Visually explore the relationship between `v_Sale_Price` and other variables.\n",
    "  - For continuous variables - take note of whether the relationship seems linear or quadratic or polynomial\n",
    "  - For categorical variables - maybe try a box plot for the various levels?\n",
    "  - Take notes about what you find    \n",
    "\n",
    "(Delete this cell that contains these instructions before submission, so that your submission starts with the \"EDA\" section below this.)      "
   ]
  },
  {
   "cell_type": "markdown",
   "metadata": {},
   "source": [
    "## Part 1: EDA\n",
    "\n",
    "_Insert cells as needed below to write a short EDA/data section that summarizes the data for someone who has never opened it before._ \n",
    "- Answer essential questions about the dataset (observation units, time period, sample size, many of the questions above) \n",
    "- Note any issues you have with the data (variable X has problem Y that needs to get addressed before using it in regressions or a prediction model because Z)\n",
    "- Present any visual results you think are interesting or important"
   ]
  },
  {
   "cell_type": "code",
   "execution_count": 1,
   "metadata": {},
   "outputs": [],
   "source": [
    "import numpy as np\n",
    "import pandas as pd\n",
    "import seaborn as sns\n",
    "import statsmodels.api as sm\n",
    "from sklearn.linear_model import LinearRegression\n",
    "from statsmodels.formula.api import ols as sm_ols\n",
    "import matplotlib.pyplot as plt\n",
    "import pandas_datareader as pdr "
   ]
  },
  {
   "cell_type": "code",
   "execution_count": 2,
   "metadata": {},
   "outputs": [],
   "source": [
    "housing_train_csv = 'input_data2/housing_train.csv'\n",
    "housing_train = pd.read_csv(housing_train_csv) "
   ]
  },
  {
   "cell_type": "code",
   "execution_count": 3,
   "metadata": {},
   "outputs": [
    {
     "name": "stdout",
     "output_type": "stream",
     "text": [
      "<class 'pandas.core.frame.DataFrame'>\n",
      "RangeIndex: 1941 entries, 0 to 1940\n",
      "Data columns (total 81 columns):\n",
      " #   Column             Non-Null Count  Dtype  \n",
      "---  ------             --------------  -----  \n",
      " 0   parcel             1941 non-null   object \n",
      " 1   v_MS_SubClass      1941 non-null   int64  \n",
      " 2   v_MS_Zoning        1941 non-null   object \n",
      " 3   v_Lot_Frontage     1620 non-null   float64\n",
      " 4   v_Lot_Area         1941 non-null   int64  \n",
      " 5   v_Street           1941 non-null   object \n",
      " 6   v_Alley            136 non-null    object \n",
      " 7   v_Lot_Shape        1941 non-null   object \n",
      " 8   v_Land_Contour     1941 non-null   object \n",
      " 9   v_Utilities        1941 non-null   object \n",
      " 10  v_Lot_Config       1941 non-null   object \n",
      " 11  v_Land_Slope       1941 non-null   object \n",
      " 12  v_Neighborhood     1941 non-null   object \n",
      " 13  v_Condition_1      1941 non-null   object \n",
      " 14  v_Condition_2      1941 non-null   object \n",
      " 15  v_Bldg_Type        1941 non-null   object \n",
      " 16  v_House_Style      1941 non-null   object \n",
      " 17  v_Overall_Qual     1941 non-null   int64  \n",
      " 18  v_Overall_Cond     1941 non-null   int64  \n",
      " 19  v_Year_Built       1941 non-null   int64  \n",
      " 20  v_Year_Remod/Add   1941 non-null   int64  \n",
      " 21  v_Roof_Style       1941 non-null   object \n",
      " 22  v_Roof_Matl        1941 non-null   object \n",
      " 23  v_Exterior_1st     1941 non-null   object \n",
      " 24  v_Exterior_2nd     1941 non-null   object \n",
      " 25  v_Mas_Vnr_Type     1923 non-null   object \n",
      " 26  v_Mas_Vnr_Area     1923 non-null   float64\n",
      " 27  v_Exter_Qual       1941 non-null   object \n",
      " 28  v_Exter_Cond       1941 non-null   object \n",
      " 29  v_Foundation       1941 non-null   object \n",
      " 30  v_Bsmt_Qual        1891 non-null   object \n",
      " 31  v_Bsmt_Cond        1891 non-null   object \n",
      " 32  v_Bsmt_Exposure    1889 non-null   object \n",
      " 33  v_BsmtFin_Type_1   1891 non-null   object \n",
      " 34  v_BsmtFin_SF_1     1940 non-null   float64\n",
      " 35  v_BsmtFin_Type_2   1891 non-null   object \n",
      " 36  v_BsmtFin_SF_2     1940 non-null   float64\n",
      " 37  v_Bsmt_Unf_SF      1940 non-null   float64\n",
      " 38  v_Total_Bsmt_SF    1940 non-null   float64\n",
      " 39  v_Heating          1941 non-null   object \n",
      " 40  v_Heating_QC       1941 non-null   object \n",
      " 41  v_Central_Air      1941 non-null   object \n",
      " 42  v_Electrical       1940 non-null   object \n",
      " 43  v_1st_Flr_SF       1941 non-null   int64  \n",
      " 44  v_2nd_Flr_SF       1941 non-null   int64  \n",
      " 45  v_Low_Qual_Fin_SF  1941 non-null   int64  \n",
      " 46  v_Gr_Liv_Area      1941 non-null   int64  \n",
      " 47  v_Bsmt_Full_Bath   1939 non-null   float64\n",
      " 48  v_Bsmt_Half_Bath   1939 non-null   float64\n",
      " 49  v_Full_Bath        1941 non-null   int64  \n",
      " 50  v_Half_Bath        1941 non-null   int64  \n",
      " 51  v_Bedroom_AbvGr    1941 non-null   int64  \n",
      " 52  v_Kitchen_AbvGr    1941 non-null   int64  \n",
      " 53  v_Kitchen_Qual     1941 non-null   object \n",
      " 54  v_TotRms_AbvGrd    1941 non-null   int64  \n",
      " 55  v_Functional       1941 non-null   object \n",
      " 56  v_Fireplaces       1941 non-null   int64  \n",
      " 57  v_Fireplace_Qu     1001 non-null   object \n",
      " 58  v_Garage_Type      1836 non-null   object \n",
      " 59  v_Garage_Yr_Blt    1834 non-null   float64\n",
      " 60  v_Garage_Finish    1834 non-null   object \n",
      " 61  v_Garage_Cars      1940 non-null   float64\n",
      " 62  v_Garage_Area      1940 non-null   float64\n",
      " 63  v_Garage_Qual      1834 non-null   object \n",
      " 64  v_Garage_Cond      1834 non-null   object \n",
      " 65  v_Paved_Drive      1941 non-null   object \n",
      " 66  v_Wood_Deck_SF     1941 non-null   int64  \n",
      " 67  v_Open_Porch_SF    1941 non-null   int64  \n",
      " 68  v_Enclosed_Porch   1941 non-null   int64  \n",
      " 69  v_3Ssn_Porch       1941 non-null   int64  \n",
      " 70  v_Screen_Porch     1941 non-null   int64  \n",
      " 71  v_Pool_Area        1941 non-null   int64  \n",
      " 72  v_Pool_QC          13 non-null     object \n",
      " 73  v_Fence            365 non-null    object \n",
      " 74  v_Misc_Feature     63 non-null     object \n",
      " 75  v_Misc_Val         1941 non-null   int64  \n",
      " 76  v_Mo_Sold          1941 non-null   int64  \n",
      " 77  v_Yr_Sold          1941 non-null   int64  \n",
      " 78  v_Sale_Type        1941 non-null   object \n",
      " 79  v_Sale_Condition   1941 non-null   object \n",
      " 80  v_SalePrice        1941 non-null   int64  \n",
      "dtypes: float64(11), int64(26), object(44)\n",
      "memory usage: 1.2+ MB\n"
     ]
    }
   ],
   "source": [
    "housing_train.info()"
   ]
  },
  {
   "cell_type": "markdown",
   "metadata": {},
   "source": [
    "Observation Unit: In this assignment I observed parcels, unique pieces of property.\n",
    "Time Period : January 2006 - December 2008\n",
    "Sample Size: 1941\n",
    "Potential Errors : Some variables are missing observations. "
   ]
  },
  {
   "cell_type": "code",
   "execution_count": 4,
   "metadata": {},
   "outputs": [
    {
     "data": {
      "text/plain": [
       "<seaborn.axisgrid.FacetGrid at 0x7f889c8f02b0>"
      ]
     },
     "execution_count": 4,
     "metadata": {},
     "output_type": "execute_result"
    },
    {
     "data": {
      "image/png": "[encoded data removed]",
      "text/plain": [
       "<Figure size 360x360 with 1 Axes>"
      ]
     },
     "metadata": {
      "needs_background": "light"
     },
     "output_type": "display_data"
    }
   ],
   "source": [
    "sns.displot(housing_train, x=\"v_SalePrice\")"
   ]
  },
  {
   "cell_type": "code",
   "execution_count": 5,
   "metadata": {},
   "outputs": [
    {
     "data": {
      "text/plain": [
       "[Text(0.5, 1.0, 'Checking for outliers')]"
      ]
     },
     "execution_count": 5,
     "metadata": {},
     "output_type": "execute_result"
    },
    {
     "data": {
      "image/png": "[encoded data removed]",
      "text/plain": [
       "<Figure size 432x288 with 1 Axes>"
      ]
     },
     "metadata": {
      "needs_background": "light"
     },
     "output_type": "display_data"
    }
   ],
   "source": [
    "sns.boxplot(data=housing_train, \n",
    "            x='v_SalePrice').set(title='Checking for outliers')"
   ]
  },
  {
   "cell_type": "markdown",
   "metadata": {},
   "source": [
    "## Part 2: Running Regressions\n",
    "\n",
    "**Run these regressions on the RAW data, even if you found data issues that you think should be addressed.**\n",
    "\n",
    "_Insert cells as needed below to run these regressions. Note that $i$ is indexing a given house, and $t$ indexes the year of sale._ \n",
    "\n",
    "1. $\\text{Sale Price}_{i,t} = \\alpha + \\beta_1 * \\text{v_Lot_Area}$"
   ]
  },
  {
   "cell_type": "code",
   "execution_count": 6,
   "metadata": {},
   "outputs": [
    {
     "data": {
      "text/html": [
       "<table class=\"simpletable\">\n",
       "<caption>OLS Regression Results</caption>\n",
       "<tr>\n",
       "  <th>Dep. Variable:</th>       <td>v_SalePrice</td>   <th>  R-squared:         </th> <td>   0.067</td> \n",
       "</tr>\n",
       "<tr>\n",
       "  <th>Model:</th>                   <td>OLS</td>       <th>  Adj. R-squared:    </th> <td>   0.066</td> \n",
       "</tr>\n",
       "<tr>\n",
       "  <th>Method:</th>             <td>Least Squares</td>  <th>  F-statistic:       </th> <td>   138.3</td> \n",
       "</tr>\n",
       "<tr>\n",
       "  <th>Date:</th>             <td>Sun, 03 Apr 2022</td> <th>  Prob (F-statistic):</th> <td>6.82e-31</td> \n",
       "</tr>\n",
       "<tr>\n",
       "  <th>Time:</th>                 <td>17:52:11</td>     <th>  Log-Likelihood:    </th> <td> -24610.</td> \n",
       "</tr>\n",
       "<tr>\n",
       "  <th>No. Observations:</th>      <td>  1941</td>      <th>  AIC:               </th> <td>4.922e+04</td>\n",
       "</tr>\n",
       "<tr>\n",
       "  <th>Df Residuals:</th>          <td>  1939</td>      <th>  BIC:               </th> <td>4.924e+04</td>\n",
       "</tr>\n",
       "<tr>\n",
       "  <th>Df Model:</th>              <td>     1</td>      <th>                     </th>     <td> </td>    \n",
       "</tr>\n",
       "<tr>\n",
       "  <th>Covariance Type:</th>      <td>nonrobust</td>    <th>                     </th>     <td> </td>    \n",
       "</tr>\n",
       "</table>\n",
       "<table class=\"simpletable\">\n",
       "<tr>\n",
       "       <td></td>         <th>coef</th>     <th>std err</th>      <th>t</th>      <th>P>|t|</th>  <th>[0.025</th>    <th>0.975]</th>  \n",
       "</tr>\n",
       "<tr>\n",
       "  <th>Intercept</th>  <td> 1.548e+05</td> <td> 2911.591</td> <td>   53.163</td> <td> 0.000</td> <td> 1.49e+05</td> <td>  1.6e+05</td>\n",
       "</tr>\n",
       "<tr>\n",
       "  <th>v_Lot_Area</th> <td>    2.6489</td> <td>    0.225</td> <td>   11.760</td> <td> 0.000</td> <td>    2.207</td> <td>    3.091</td>\n",
       "</tr>\n",
       "</table>\n",
       "<table class=\"simpletable\">\n",
       "<tr>\n",
       "  <th>Omnibus:</th>       <td>668.513</td> <th>  Durbin-Watson:     </th> <td>   1.064</td>\n",
       "</tr>\n",
       "<tr>\n",
       "  <th>Prob(Omnibus):</th> <td> 0.000</td>  <th>  Jarque-Bera (JB):  </th> <td>3001.894</td>\n",
       "</tr>\n",
       "<tr>\n",
       "  <th>Skew:</th>          <td> 1.595</td>  <th>  Prob(JB):          </th> <td>    0.00</td>\n",
       "</tr>\n",
       "<tr>\n",
       "  <th>Kurtosis:</th>      <td> 8.191</td>  <th>  Cond. No.          </th> <td>2.13e+04</td>\n",
       "</tr>\n",
       "</table><br/><br/>Notes:<br/>[1] Standard Errors assume that the covariance matrix of the errors is correctly specified.<br/>[2] The condition number is large, 2.13e+04. This might indicate that there are<br/>strong multicollinearity or other numerical problems."
      ],
      "text/plain": [
       "<class 'statsmodels.iolib.summary.Summary'>\n",
       "\"\"\"\n",
       "                            OLS Regression Results                            \n",
       "==============================================================================\n",
       "Dep. Variable:            v_SalePrice   R-squared:                       0.067\n",
       "Model:                            OLS   Adj. R-squared:                  0.066\n",
       "Method:                 Least Squares   F-statistic:                     138.3\n",
       "Date:                Sun, 03 Apr 2022   Prob (F-statistic):           6.82e-31\n",
       "Time:                        17:52:11   Log-Likelihood:                -24610.\n",
       "No. Observations:                1941   AIC:                         4.922e+04\n",
       "Df Residuals:                    1939   BIC:                         4.924e+04\n",
       "Df Model:                           1                                         \n",
       "Covariance Type:            nonrobust                                         \n",
       "==============================================================================\n",
       "                 coef    std err          t      P>|t|      [0.025      0.975]\n",
       "------------------------------------------------------------------------------\n",
       "Intercept   1.548e+05   2911.591     53.163      0.000    1.49e+05     1.6e+05\n",
       "v_Lot_Area     2.6489      0.225     11.760      0.000       2.207       3.091\n",
       "==============================================================================\n",
       "Omnibus:                      668.513   Durbin-Watson:                   1.064\n",
       "Prob(Omnibus):                  0.000   Jarque-Bera (JB):             3001.894\n",
       "Skew:                           1.595   Prob(JB):                         0.00\n",
       "Kurtosis:                       8.191   Cond. No.                     2.13e+04\n",
       "==============================================================================\n",
       "\n",
       "Notes:\n",
       "[1] Standard Errors assume that the covariance matrix of the errors is correctly specified.\n",
       "[2] The condition number is large, 2.13e+04. This might indicate that there are\n",
       "strong multicollinearity or other numerical problems.\n",
       "\"\"\""
      ]
     },
     "execution_count": 6,
     "metadata": {},
     "output_type": "execute_result"
    }
   ],
   "source": [
    "sm_ols('v_SalePrice ~ v_Lot_Area', data = housing_train).fit().summary()"
   ]
  },
  {
   "cell_type": "markdown",
   "metadata": {},
   "source": [
    "2. $\\text{Sale Price}_{i,t} = \\alpha + \\beta_1 * log(\\text{v_Lot_Area})$"
   ]
  },
  {
   "cell_type": "code",
   "execution_count": 7,
   "metadata": {},
   "outputs": [
    {
     "data": {
      "text/html": [
       "<table class=\"simpletable\">\n",
       "<caption>OLS Regression Results</caption>\n",
       "<tr>\n",
       "  <th>Dep. Variable:</th>       <td>v_SalePrice</td>   <th>  R-squared:         </th> <td>   0.128</td> \n",
       "</tr>\n",
       "<tr>\n",
       "  <th>Model:</th>                   <td>OLS</td>       <th>  Adj. R-squared:    </th> <td>   0.128</td> \n",
       "</tr>\n",
       "<tr>\n",
       "  <th>Method:</th>             <td>Least Squares</td>  <th>  F-statistic:       </th> <td>   285.6</td> \n",
       "</tr>\n",
       "<tr>\n",
       "  <th>Date:</th>             <td>Sun, 03 Apr 2022</td> <th>  Prob (F-statistic):</th> <td>6.95e-60</td> \n",
       "</tr>\n",
       "<tr>\n",
       "  <th>Time:</th>                 <td>17:52:11</td>     <th>  Log-Likelihood:    </th> <td> -24544.</td> \n",
       "</tr>\n",
       "<tr>\n",
       "  <th>No. Observations:</th>      <td>  1941</td>      <th>  AIC:               </th> <td>4.909e+04</td>\n",
       "</tr>\n",
       "<tr>\n",
       "  <th>Df Residuals:</th>          <td>  1939</td>      <th>  BIC:               </th> <td>4.910e+04</td>\n",
       "</tr>\n",
       "<tr>\n",
       "  <th>Df Model:</th>              <td>     1</td>      <th>                     </th>     <td> </td>    \n",
       "</tr>\n",
       "<tr>\n",
       "  <th>Covariance Type:</th>      <td>nonrobust</td>    <th>                     </th>     <td> </td>    \n",
       "</tr>\n",
       "</table>\n",
       "<table class=\"simpletable\">\n",
       "<tr>\n",
       "           <td></td>             <th>coef</th>     <th>std err</th>      <th>t</th>      <th>P>|t|</th>  <th>[0.025</th>    <th>0.975]</th>  \n",
       "</tr>\n",
       "<tr>\n",
       "  <th>Intercept</th>          <td>-3.279e+05</td> <td> 3.02e+04</td> <td>  -10.850</td> <td> 0.000</td> <td>-3.87e+05</td> <td>-2.69e+05</td>\n",
       "</tr>\n",
       "<tr>\n",
       "  <th>np.log(v_Lot_Area)</th> <td> 5.603e+04</td> <td> 3315.139</td> <td>   16.901</td> <td> 0.000</td> <td> 4.95e+04</td> <td> 6.25e+04</td>\n",
       "</tr>\n",
       "</table>\n",
       "<table class=\"simpletable\">\n",
       "<tr>\n",
       "  <th>Omnibus:</th>       <td>650.067</td> <th>  Durbin-Watson:     </th> <td>   1.042</td>\n",
       "</tr>\n",
       "<tr>\n",
       "  <th>Prob(Omnibus):</th> <td> 0.000</td>  <th>  Jarque-Bera (JB):  </th> <td>2623.687</td>\n",
       "</tr>\n",
       "<tr>\n",
       "  <th>Skew:</th>          <td> 1.587</td>  <th>  Prob(JB):          </th> <td>    0.00</td>\n",
       "</tr>\n",
       "<tr>\n",
       "  <th>Kurtosis:</th>      <td> 7.729</td>  <th>  Cond. No.          </th> <td>    164.</td>\n",
       "</tr>\n",
       "</table><br/><br/>Notes:<br/>[1] Standard Errors assume that the covariance matrix of the errors is correctly specified."
      ],
      "text/plain": [
       "<class 'statsmodels.iolib.summary.Summary'>\n",
       "\"\"\"\n",
       "                            OLS Regression Results                            \n",
       "==============================================================================\n",
       "Dep. Variable:            v_SalePrice   R-squared:                       0.128\n",
       "Model:                            OLS   Adj. R-squared:                  0.128\n",
       "Method:                 Least Squares   F-statistic:                     285.6\n",
       "Date:                Sun, 03 Apr 2022   Prob (F-statistic):           6.95e-60\n",
       "Time:                        17:52:11   Log-Likelihood:                -24544.\n",
       "No. Observations:                1941   AIC:                         4.909e+04\n",
       "Df Residuals:                    1939   BIC:                         4.910e+04\n",
       "Df Model:                           1                                         \n",
       "Covariance Type:            nonrobust                                         \n",
       "======================================================================================\n",
       "                         coef    std err          t      P>|t|      [0.025      0.975]\n",
       "--------------------------------------------------------------------------------------\n",
       "Intercept          -3.279e+05   3.02e+04    -10.850      0.000   -3.87e+05   -2.69e+05\n",
       "np.log(v_Lot_Area)  5.603e+04   3315.139     16.901      0.000    4.95e+04    6.25e+04\n",
       "==============================================================================\n",
       "Omnibus:                      650.067   Durbin-Watson:                   1.042\n",
       "Prob(Omnibus):                  0.000   Jarque-Bera (JB):             2623.687\n",
       "Skew:                           1.587   Prob(JB):                         0.00\n",
       "Kurtosis:                       7.729   Cond. No.                         164.\n",
       "==============================================================================\n",
       "\n",
       "Notes:\n",
       "[1] Standard Errors assume that the covariance matrix of the errors is correctly specified.\n",
       "\"\"\""
      ]
     },
     "execution_count": 7,
     "metadata": {},
     "output_type": "execute_result"
    }
   ],
   "source": [
    "sm_ols('v_SalePrice ~ np.log(v_Lot_Area)', data = housing_train).fit().summary()"
   ]
  },
  {
   "cell_type": "markdown",
   "metadata": {},
   "source": [
    "3. $log(\\text{Sale Price}_{i,t}) = \\alpha + \\beta_1 * \\text{v_Lot_Area}$"
   ]
  },
  {
   "cell_type": "code",
   "execution_count": 8,
   "metadata": {},
   "outputs": [
    {
     "data": {
      "text/html": [
       "<table class=\"simpletable\">\n",
       "<caption>OLS Regression Results</caption>\n",
       "<tr>\n",
       "  <th>Dep. Variable:</th>    <td>np.log(v_SalePrice)</td> <th>  R-squared:         </th> <td>   0.065</td>\n",
       "</tr>\n",
       "<tr>\n",
       "  <th>Model:</th>                    <td>OLS</td>         <th>  Adj. R-squared:    </th> <td>   0.064</td>\n",
       "</tr>\n",
       "<tr>\n",
       "  <th>Method:</th>              <td>Least Squares</td>    <th>  F-statistic:       </th> <td>   133.9</td>\n",
       "</tr>\n",
       "<tr>\n",
       "  <th>Date:</th>              <td>Sun, 03 Apr 2022</td>   <th>  Prob (F-statistic):</th> <td>5.46e-30</td>\n",
       "</tr>\n",
       "<tr>\n",
       "  <th>Time:</th>                  <td>17:52:11</td>       <th>  Log-Likelihood:    </th> <td> -927.19</td>\n",
       "</tr>\n",
       "<tr>\n",
       "  <th>No. Observations:</th>       <td>  1941</td>        <th>  AIC:               </th> <td>   1858.</td>\n",
       "</tr>\n",
       "<tr>\n",
       "  <th>Df Residuals:</th>           <td>  1939</td>        <th>  BIC:               </th> <td>   1870.</td>\n",
       "</tr>\n",
       "<tr>\n",
       "  <th>Df Model:</th>               <td>     1</td>        <th>                     </th>     <td> </td>   \n",
       "</tr>\n",
       "<tr>\n",
       "  <th>Covariance Type:</th>       <td>nonrobust</td>      <th>                     </th>     <td> </td>   \n",
       "</tr>\n",
       "</table>\n",
       "<table class=\"simpletable\">\n",
       "<tr>\n",
       "       <td></td>         <th>coef</th>     <th>std err</th>      <th>t</th>      <th>P>|t|</th>  <th>[0.025</th>    <th>0.975]</th>  \n",
       "</tr>\n",
       "<tr>\n",
       "  <th>Intercept</th>  <td>   11.8941</td> <td>    0.015</td> <td>  813.211</td> <td> 0.000</td> <td>   11.865</td> <td>   11.923</td>\n",
       "</tr>\n",
       "<tr>\n",
       "  <th>v_Lot_Area</th> <td> 1.309e-05</td> <td> 1.13e-06</td> <td>   11.571</td> <td> 0.000</td> <td> 1.09e-05</td> <td> 1.53e-05</td>\n",
       "</tr>\n",
       "</table>\n",
       "<table class=\"simpletable\">\n",
       "<tr>\n",
       "  <th>Omnibus:</th>       <td>75.460</td> <th>  Durbin-Watson:     </th> <td>   0.980</td>\n",
       "</tr>\n",
       "<tr>\n",
       "  <th>Prob(Omnibus):</th> <td> 0.000</td> <th>  Jarque-Bera (JB):  </th> <td> 218.556</td>\n",
       "</tr>\n",
       "<tr>\n",
       "  <th>Skew:</th>          <td>-0.066</td> <th>  Prob(JB):          </th> <td>3.48e-48</td>\n",
       "</tr>\n",
       "<tr>\n",
       "  <th>Kurtosis:</th>      <td> 4.639</td> <th>  Cond. No.          </th> <td>2.13e+04</td>\n",
       "</tr>\n",
       "</table><br/><br/>Notes:<br/>[1] Standard Errors assume that the covariance matrix of the errors is correctly specified.<br/>[2] The condition number is large, 2.13e+04. This might indicate that there are<br/>strong multicollinearity or other numerical problems."
      ],
      "text/plain": [
       "<class 'statsmodels.iolib.summary.Summary'>\n",
       "\"\"\"\n",
       "                             OLS Regression Results                            \n",
       "===============================================================================\n",
       "Dep. Variable:     np.log(v_SalePrice)   R-squared:                       0.065\n",
       "Model:                             OLS   Adj. R-squared:                  0.064\n",
       "Method:                  Least Squares   F-statistic:                     133.9\n",
       "Date:                 Sun, 03 Apr 2022   Prob (F-statistic):           5.46e-30\n",
       "Time:                         17:52:11   Log-Likelihood:                -927.19\n",
       "No. Observations:                 1941   AIC:                             1858.\n",
       "Df Residuals:                     1939   BIC:                             1870.\n",
       "Df Model:                            1                                         \n",
       "Covariance Type:             nonrobust                                         \n",
       "==============================================================================\n",
       "                 coef    std err          t      P>|t|      [0.025      0.975]\n",
       "------------------------------------------------------------------------------\n",
       "Intercept     11.8941      0.015    813.211      0.000      11.865      11.923\n",
       "v_Lot_Area  1.309e-05   1.13e-06     11.571      0.000    1.09e-05    1.53e-05\n",
       "==============================================================================\n",
       "Omnibus:                       75.460   Durbin-Watson:                   0.980\n",
       "Prob(Omnibus):                  0.000   Jarque-Bera (JB):              218.556\n",
       "Skew:                          -0.066   Prob(JB):                     3.48e-48\n",
       "Kurtosis:                       4.639   Cond. No.                     2.13e+04\n",
       "==============================================================================\n",
       "\n",
       "Notes:\n",
       "[1] Standard Errors assume that the covariance matrix of the errors is correctly specified.\n",
       "[2] The condition number is large, 2.13e+04. This might indicate that there are\n",
       "strong multicollinearity or other numerical problems.\n",
       "\"\"\""
      ]
     },
     "execution_count": 8,
     "metadata": {},
     "output_type": "execute_result"
    }
   ],
   "source": [
    "sm_ols('np.log(v_SalePrice) ~ v_Lot_Area', data = housing_train).fit().summary()"
   ]
  },
  {
   "cell_type": "markdown",
   "metadata": {},
   "source": [
    "4. $log(\\text{Sale Price}_{i,t}) = \\alpha + \\beta_1 * log(\\text{v_Lot_Area})$"
   ]
  },
  {
   "cell_type": "code",
   "execution_count": 9,
   "metadata": {},
   "outputs": [
    {
     "data": {
      "text/html": [
       "<table class=\"simpletable\">\n",
       "<caption>OLS Regression Results</caption>\n",
       "<tr>\n",
       "  <th>Dep. Variable:</th>    <td>np.log(v_SalePrice)</td> <th>  R-squared:         </th> <td>   0.135</td>\n",
       "</tr>\n",
       "<tr>\n",
       "  <th>Model:</th>                    <td>OLS</td>         <th>  Adj. R-squared:    </th> <td>   0.135</td>\n",
       "</tr>\n",
       "<tr>\n",
       "  <th>Method:</th>              <td>Least Squares</td>    <th>  F-statistic:       </th> <td>   302.5</td>\n",
       "</tr>\n",
       "<tr>\n",
       "  <th>Date:</th>              <td>Sun, 03 Apr 2022</td>   <th>  Prob (F-statistic):</th> <td>4.38e-63</td>\n",
       "</tr>\n",
       "<tr>\n",
       "  <th>Time:</th>                  <td>17:52:11</td>       <th>  Log-Likelihood:    </th> <td> -851.27</td>\n",
       "</tr>\n",
       "<tr>\n",
       "  <th>No. Observations:</th>       <td>  1941</td>        <th>  AIC:               </th> <td>   1707.</td>\n",
       "</tr>\n",
       "<tr>\n",
       "  <th>Df Residuals:</th>           <td>  1939</td>        <th>  BIC:               </th> <td>   1718.</td>\n",
       "</tr>\n",
       "<tr>\n",
       "  <th>Df Model:</th>               <td>     1</td>        <th>                     </th>     <td> </td>   \n",
       "</tr>\n",
       "<tr>\n",
       "  <th>Covariance Type:</th>       <td>nonrobust</td>      <th>                     </th>     <td> </td>   \n",
       "</tr>\n",
       "</table>\n",
       "<table class=\"simpletable\">\n",
       "<tr>\n",
       "           <td></td>             <th>coef</th>     <th>std err</th>      <th>t</th>      <th>P>|t|</th>  <th>[0.025</th>    <th>0.975]</th>  \n",
       "</tr>\n",
       "<tr>\n",
       "  <th>Intercept</th>          <td>    9.4051</td> <td>    0.151</td> <td>   62.253</td> <td> 0.000</td> <td>    9.109</td> <td>    9.701</td>\n",
       "</tr>\n",
       "<tr>\n",
       "  <th>np.log(v_Lot_Area)</th> <td>    0.2883</td> <td>    0.017</td> <td>   17.394</td> <td> 0.000</td> <td>    0.256</td> <td>    0.321</td>\n",
       "</tr>\n",
       "</table>\n",
       "<table class=\"simpletable\">\n",
       "<tr>\n",
       "  <th>Omnibus:</th>       <td>84.067</td> <th>  Durbin-Watson:     </th> <td>   0.955</td>\n",
       "</tr>\n",
       "<tr>\n",
       "  <th>Prob(Omnibus):</th> <td> 0.000</td> <th>  Jarque-Bera (JB):  </th> <td> 255.283</td>\n",
       "</tr>\n",
       "<tr>\n",
       "  <th>Skew:</th>          <td>-0.100</td> <th>  Prob(JB):          </th> <td>3.68e-56</td>\n",
       "</tr>\n",
       "<tr>\n",
       "  <th>Kurtosis:</th>      <td> 4.765</td> <th>  Cond. No.          </th> <td>    164.</td>\n",
       "</tr>\n",
       "</table><br/><br/>Notes:<br/>[1] Standard Errors assume that the covariance matrix of the errors is correctly specified."
      ],
      "text/plain": [
       "<class 'statsmodels.iolib.summary.Summary'>\n",
       "\"\"\"\n",
       "                             OLS Regression Results                            \n",
       "===============================================================================\n",
       "Dep. Variable:     np.log(v_SalePrice)   R-squared:                       0.135\n",
       "Model:                             OLS   Adj. R-squared:                  0.135\n",
       "Method:                  Least Squares   F-statistic:                     302.5\n",
       "Date:                 Sun, 03 Apr 2022   Prob (F-statistic):           4.38e-63\n",
       "Time:                         17:52:11   Log-Likelihood:                -851.27\n",
       "No. Observations:                 1941   AIC:                             1707.\n",
       "Df Residuals:                     1939   BIC:                             1718.\n",
       "Df Model:                            1                                         \n",
       "Covariance Type:             nonrobust                                         \n",
       "======================================================================================\n",
       "                         coef    std err          t      P>|t|      [0.025      0.975]\n",
       "--------------------------------------------------------------------------------------\n",
       "Intercept              9.4051      0.151     62.253      0.000       9.109       9.701\n",
       "np.log(v_Lot_Area)     0.2883      0.017     17.394      0.000       0.256       0.321\n",
       "==============================================================================\n",
       "Omnibus:                       84.067   Durbin-Watson:                   0.955\n",
       "Prob(Omnibus):                  0.000   Jarque-Bera (JB):              255.283\n",
       "Skew:                          -0.100   Prob(JB):                     3.68e-56\n",
       "Kurtosis:                       4.765   Cond. No.                         164.\n",
       "==============================================================================\n",
       "\n",
       "Notes:\n",
       "[1] Standard Errors assume that the covariance matrix of the errors is correctly specified.\n",
       "\"\"\""
      ]
     },
     "execution_count": 9,
     "metadata": {},
     "output_type": "execute_result"
    }
   ],
   "source": [
    "sm_ols('np.log(v_SalePrice) ~ np.log(v_Lot_Area)', data = housing_train).fit().summary()"
   ]
  },
  {
   "cell_type": "markdown",
   "metadata": {},
   "source": [
    "5. $log(\\text{Sale Price}_{i,t}) = \\alpha + \\beta_1 * \\text{v_Yr_Sold}$"
   ]
  },
  {
   "cell_type": "code",
   "execution_count": 10,
   "metadata": {},
   "outputs": [
    {
     "data": {
      "text/html": [
       "<table class=\"simpletable\">\n",
       "<caption>OLS Regression Results</caption>\n",
       "<tr>\n",
       "  <th>Dep. Variable:</th>    <td>np.log(v_SalePrice)</td> <th>  R-squared:         </th> <td>   0.000</td>\n",
       "</tr>\n",
       "<tr>\n",
       "  <th>Model:</th>                    <td>OLS</td>         <th>  Adj. R-squared:    </th> <td>  -0.000</td>\n",
       "</tr>\n",
       "<tr>\n",
       "  <th>Method:</th>              <td>Least Squares</td>    <th>  F-statistic:       </th> <td>  0.2003</td>\n",
       "</tr>\n",
       "<tr>\n",
       "  <th>Date:</th>              <td>Sun, 03 Apr 2022</td>   <th>  Prob (F-statistic):</th>  <td> 0.655</td> \n",
       "</tr>\n",
       "<tr>\n",
       "  <th>Time:</th>                  <td>17:52:11</td>       <th>  Log-Likelihood:    </th> <td> -991.88</td>\n",
       "</tr>\n",
       "<tr>\n",
       "  <th>No. Observations:</th>       <td>  1941</td>        <th>  AIC:               </th> <td>   1988.</td>\n",
       "</tr>\n",
       "<tr>\n",
       "  <th>Df Residuals:</th>           <td>  1939</td>        <th>  BIC:               </th> <td>   1999.</td>\n",
       "</tr>\n",
       "<tr>\n",
       "  <th>Df Model:</th>               <td>     1</td>        <th>                     </th>     <td> </td>   \n",
       "</tr>\n",
       "<tr>\n",
       "  <th>Covariance Type:</th>       <td>nonrobust</td>      <th>                     </th>     <td> </td>   \n",
       "</tr>\n",
       "</table>\n",
       "<table class=\"simpletable\">\n",
       "<tr>\n",
       "      <td></td>         <th>coef</th>     <th>std err</th>      <th>t</th>      <th>P>|t|</th>  <th>[0.025</th>    <th>0.975]</th>  \n",
       "</tr>\n",
       "<tr>\n",
       "  <th>Intercept</th> <td>   22.2932</td> <td>   22.937</td> <td>    0.972</td> <td> 0.331</td> <td>  -22.690</td> <td>   67.277</td>\n",
       "</tr>\n",
       "<tr>\n",
       "  <th>v_Yr_Sold</th> <td>   -0.0051</td> <td>    0.011</td> <td>   -0.448</td> <td> 0.655</td> <td>   -0.028</td> <td>    0.017</td>\n",
       "</tr>\n",
       "</table>\n",
       "<table class=\"simpletable\">\n",
       "<tr>\n",
       "  <th>Omnibus:</th>       <td>55.641</td> <th>  Durbin-Watson:     </th> <td>   0.985</td>\n",
       "</tr>\n",
       "<tr>\n",
       "  <th>Prob(Omnibus):</th> <td> 0.000</td> <th>  Jarque-Bera (JB):  </th> <td> 131.833</td>\n",
       "</tr>\n",
       "<tr>\n",
       "  <th>Skew:</th>          <td> 0.075</td> <th>  Prob(JB):          </th> <td>2.36e-29</td>\n",
       "</tr>\n",
       "<tr>\n",
       "  <th>Kurtosis:</th>      <td> 4.268</td> <th>  Cond. No.          </th> <td>5.03e+06</td>\n",
       "</tr>\n",
       "</table><br/><br/>Notes:<br/>[1] Standard Errors assume that the covariance matrix of the errors is correctly specified.<br/>[2] The condition number is large, 5.03e+06. This might indicate that there are<br/>strong multicollinearity or other numerical problems."
      ],
      "text/plain": [
       "<class 'statsmodels.iolib.summary.Summary'>\n",
       "\"\"\"\n",
       "                             OLS Regression Results                            \n",
       "===============================================================================\n",
       "Dep. Variable:     np.log(v_SalePrice)   R-squared:                       0.000\n",
       "Model:                             OLS   Adj. R-squared:                 -0.000\n",
       "Method:                  Least Squares   F-statistic:                    0.2003\n",
       "Date:                 Sun, 03 Apr 2022   Prob (F-statistic):              0.655\n",
       "Time:                         17:52:11   Log-Likelihood:                -991.88\n",
       "No. Observations:                 1941   AIC:                             1988.\n",
       "Df Residuals:                     1939   BIC:                             1999.\n",
       "Df Model:                            1                                         \n",
       "Covariance Type:             nonrobust                                         \n",
       "==============================================================================\n",
       "                 coef    std err          t      P>|t|      [0.025      0.975]\n",
       "------------------------------------------------------------------------------\n",
       "Intercept     22.2932     22.937      0.972      0.331     -22.690      67.277\n",
       "v_Yr_Sold     -0.0051      0.011     -0.448      0.655      -0.028       0.017\n",
       "==============================================================================\n",
       "Omnibus:                       55.641   Durbin-Watson:                   0.985\n",
       "Prob(Omnibus):                  0.000   Jarque-Bera (JB):              131.833\n",
       "Skew:                           0.075   Prob(JB):                     2.36e-29\n",
       "Kurtosis:                       4.268   Cond. No.                     5.03e+06\n",
       "==============================================================================\n",
       "\n",
       "Notes:\n",
       "[1] Standard Errors assume that the covariance matrix of the errors is correctly specified.\n",
       "[2] The condition number is large, 5.03e+06. This might indicate that there are\n",
       "strong multicollinearity or other numerical problems.\n",
       "\"\"\""
      ]
     },
     "execution_count": 10,
     "metadata": {},
     "output_type": "execute_result"
    }
   ],
   "source": [
    "sm_ols('np.log(v_SalePrice) ~ v_Yr_Sold', data = housing_train).fit().summary()"
   ]
  },
  {
   "cell_type": "markdown",
   "metadata": {},
   "source": [
    "6. $log(\\text{Sale Price}_{i,t}) = \\alpha + \\beta_1 * (\\text{v_Yr_Sold==2007})+ \\beta_2 * (\\text{v_Yr_Sold==2008})$"
   ]
  },
  {
   "cell_type": "code",
   "execution_count": 11,
   "metadata": {},
   "outputs": [
    {
     "data": {
      "text/html": [
       "<table class=\"simpletable\">\n",
       "<caption>OLS Regression Results</caption>\n",
       "<tr>\n",
       "  <th>Dep. Variable:</th>    <td>np.log(v_SalePrice)</td> <th>  R-squared:         </th> <td>   0.001</td>\n",
       "</tr>\n",
       "<tr>\n",
       "  <th>Model:</th>                    <td>OLS</td>         <th>  Adj. R-squared:    </th> <td>   0.000</td>\n",
       "</tr>\n",
       "<tr>\n",
       "  <th>Method:</th>              <td>Least Squares</td>    <th>  F-statistic:       </th> <td>   1.394</td>\n",
       "</tr>\n",
       "<tr>\n",
       "  <th>Date:</th>              <td>Sun, 03 Apr 2022</td>   <th>  Prob (F-statistic):</th>  <td> 0.248</td> \n",
       "</tr>\n",
       "<tr>\n",
       "  <th>Time:</th>                  <td>17:52:11</td>       <th>  Log-Likelihood:    </th> <td> -990.59</td>\n",
       "</tr>\n",
       "<tr>\n",
       "  <th>No. Observations:</th>       <td>  1941</td>        <th>  AIC:               </th> <td>   1987.</td>\n",
       "</tr>\n",
       "<tr>\n",
       "  <th>Df Residuals:</th>           <td>  1938</td>        <th>  BIC:               </th> <td>   2004.</td>\n",
       "</tr>\n",
       "<tr>\n",
       "  <th>Df Model:</th>               <td>     2</td>        <th>                     </th>     <td> </td>   \n",
       "</tr>\n",
       "<tr>\n",
       "  <th>Covariance Type:</th>       <td>nonrobust</td>      <th>                     </th>     <td> </td>   \n",
       "</tr>\n",
       "</table>\n",
       "<table class=\"simpletable\">\n",
       "<tr>\n",
       "              <td></td>                 <th>coef</th>     <th>std err</th>      <th>t</th>      <th>P>|t|</th>  <th>[0.025</th>    <th>0.975]</th>  \n",
       "</tr>\n",
       "<tr>\n",
       "  <th>Intercept</th>                 <td>   12.0229</td> <td>    0.016</td> <td>  745.087</td> <td> 0.000</td> <td>   11.991</td> <td>   12.055</td>\n",
       "</tr>\n",
       "<tr>\n",
       "  <th>v_Yr_Sold == 2007[T.True]</th> <td>    0.0256</td> <td>    0.022</td> <td>    1.150</td> <td> 0.250</td> <td>   -0.018</td> <td>    0.069</td>\n",
       "</tr>\n",
       "<tr>\n",
       "  <th>v_Yr_Sold == 2008[T.True]</th> <td>   -0.0103</td> <td>    0.023</td> <td>   -0.450</td> <td> 0.653</td> <td>   -0.055</td> <td>    0.035</td>\n",
       "</tr>\n",
       "</table>\n",
       "<table class=\"simpletable\">\n",
       "<tr>\n",
       "  <th>Omnibus:</th>       <td>54.618</td> <th>  Durbin-Watson:     </th> <td>   0.989</td>\n",
       "</tr>\n",
       "<tr>\n",
       "  <th>Prob(Omnibus):</th> <td> 0.000</td> <th>  Jarque-Bera (JB):  </th> <td> 127.342</td>\n",
       "</tr>\n",
       "<tr>\n",
       "  <th>Skew:</th>          <td> 0.080</td> <th>  Prob(JB):          </th> <td>2.23e-28</td>\n",
       "</tr>\n",
       "<tr>\n",
       "  <th>Kurtosis:</th>      <td> 4.245</td> <th>  Cond. No.          </th> <td>    3.79</td>\n",
       "</tr>\n",
       "</table><br/><br/>Notes:<br/>[1] Standard Errors assume that the covariance matrix of the errors is correctly specified."
      ],
      "text/plain": [
       "<class 'statsmodels.iolib.summary.Summary'>\n",
       "\"\"\"\n",
       "                             OLS Regression Results                            \n",
       "===============================================================================\n",
       "Dep. Variable:     np.log(v_SalePrice)   R-squared:                       0.001\n",
       "Model:                             OLS   Adj. R-squared:                  0.000\n",
       "Method:                  Least Squares   F-statistic:                     1.394\n",
       "Date:                 Sun, 03 Apr 2022   Prob (F-statistic):              0.248\n",
       "Time:                         17:52:11   Log-Likelihood:                -990.59\n",
       "No. Observations:                 1941   AIC:                             1987.\n",
       "Df Residuals:                     1938   BIC:                             2004.\n",
       "Df Model:                            2                                         \n",
       "Covariance Type:             nonrobust                                         \n",
       "=============================================================================================\n",
       "                                coef    std err          t      P>|t|      [0.025      0.975]\n",
       "---------------------------------------------------------------------------------------------\n",
       "Intercept                    12.0229      0.016    745.087      0.000      11.991      12.055\n",
       "v_Yr_Sold == 2007[T.True]     0.0256      0.022      1.150      0.250      -0.018       0.069\n",
       "v_Yr_Sold == 2008[T.True]    -0.0103      0.023     -0.450      0.653      -0.055       0.035\n",
       "==============================================================================\n",
       "Omnibus:                       54.618   Durbin-Watson:                   0.989\n",
       "Prob(Omnibus):                  0.000   Jarque-Bera (JB):              127.342\n",
       "Skew:                           0.080   Prob(JB):                     2.23e-28\n",
       "Kurtosis:                       4.245   Cond. No.                         3.79\n",
       "==============================================================================\n",
       "\n",
       "Notes:\n",
       "[1] Standard Errors assume that the covariance matrix of the errors is correctly specified.\n",
       "\"\"\""
      ]
     },
     "execution_count": 11,
     "metadata": {},
     "output_type": "execute_result"
    }
   ],
   "source": [
    "sm_ols('np.log(v_SalePrice) ~ (v_Yr_Sold==2007)+(v_Yr_Sold==2008)', data = housing_train).fit().summary()"
   ]
  },
  {
   "cell_type": "markdown",
   "metadata": {},
   "source": [
    "7. Choose your own adventure: Pick any five variables from the dataset that you think will generate good R2. Use them in a regression of $log(\\text{Sale Price}_{i,t})$ \n",
    "    - Tip: You can transform/create these five variables however you want, even if it creates extra variables. For example: I'd count Model 6 above as only using one variable: `v_Yr_Sold`.\n",
    "    - I got an R2 of 0.877 with just \"5\" variables. How close can you get? I won't be shocked if someone beats that!"
   ]
  },
  {
   "cell_type": "code",
   "execution_count": 12,
   "metadata": {},
   "outputs": [
    {
     "data": {
      "text/html": [
       "<table class=\"simpletable\">\n",
       "<caption>OLS Regression Results</caption>\n",
       "<tr>\n",
       "  <th>Dep. Variable:</th>    <td>np.log(v_SalePrice)</td> <th>  R-squared:         </th> <td>   0.736</td>\n",
       "</tr>\n",
       "<tr>\n",
       "  <th>Model:</th>                    <td>OLS</td>         <th>  Adj. R-squared:    </th> <td>   0.735</td>\n",
       "</tr>\n",
       "<tr>\n",
       "  <th>Method:</th>              <td>Least Squares</td>    <th>  F-statistic:       </th> <td>   1079.</td>\n",
       "</tr>\n",
       "<tr>\n",
       "  <th>Date:</th>              <td>Sun, 03 Apr 2022</td>   <th>  Prob (F-statistic):</th>  <td>  0.00</td> \n",
       "</tr>\n",
       "<tr>\n",
       "  <th>Time:</th>                  <td>17:52:11</td>       <th>  Log-Likelihood:    </th> <td>  300.84</td>\n",
       "</tr>\n",
       "<tr>\n",
       "  <th>No. Observations:</th>       <td>  1941</td>        <th>  AIC:               </th> <td>  -589.7</td>\n",
       "</tr>\n",
       "<tr>\n",
       "  <th>Df Residuals:</th>           <td>  1935</td>        <th>  BIC:               </th> <td>  -556.3</td>\n",
       "</tr>\n",
       "<tr>\n",
       "  <th>Df Model:</th>               <td>     5</td>        <th>                     </th>     <td> </td>   \n",
       "</tr>\n",
       "<tr>\n",
       "  <th>Covariance Type:</th>       <td>nonrobust</td>      <th>                     </th>     <td> </td>   \n",
       "</tr>\n",
       "</table>\n",
       "<table class=\"simpletable\">\n",
       "<tr>\n",
       "                <td></td>                   <th>coef</th>     <th>std err</th>      <th>t</th>      <th>P>|t|</th>  <th>[0.025</th>    <th>0.975]</th>  \n",
       "</tr>\n",
       "<tr>\n",
       "  <th>Intercept</th>                     <td>  -13.2747</td> <td>   12.315</td> <td>   -1.078</td> <td> 0.281</td> <td>  -37.427</td> <td>   10.878</td>\n",
       "</tr>\n",
       "<tr>\n",
       "  <th>v_Yr_Sold</th>                     <td>   -0.0139</td> <td>    0.006</td> <td>   -2.357</td> <td> 0.019</td> <td>   -0.026</td> <td>   -0.002</td>\n",
       "</tr>\n",
       "<tr>\n",
       "  <th>v_Overall_Qual</th>                <td>    0.2048</td> <td>    0.004</td> <td>   49.730</td> <td> 0.000</td> <td>    0.197</td> <td>    0.213</td>\n",
       "</tr>\n",
       "<tr>\n",
       "  <th>v_Overall_Cond</th>                <td>    0.0089</td> <td>    0.004</td> <td>    2.025</td> <td> 0.043</td> <td>    0.000</td> <td>    0.018</td>\n",
       "</tr>\n",
       "<tr>\n",
       "  <th>np.log(Q(\"v_Year_Remod/Add\"))</th> <td>    6.8310</td> <td>    0.543</td> <td>   12.573</td> <td> 0.000</td> <td>    5.765</td> <td>    7.897</td>\n",
       "</tr>\n",
       "<tr>\n",
       "  <th>v_Lot_Area</th>                    <td> 9.719e-06</td> <td> 6.05e-07</td> <td>   16.073</td> <td> 0.000</td> <td> 8.53e-06</td> <td> 1.09e-05</td>\n",
       "</tr>\n",
       "</table>\n",
       "<table class=\"simpletable\">\n",
       "<tr>\n",
       "  <th>Omnibus:</th>       <td>298.738</td> <th>  Durbin-Watson:     </th> <td>   1.666</td> \n",
       "</tr>\n",
       "<tr>\n",
       "  <th>Prob(Omnibus):</th> <td> 0.000</td>  <th>  Jarque-Bera (JB):  </th> <td>1221.881</td> \n",
       "</tr>\n",
       "<tr>\n",
       "  <th>Skew:</th>          <td>-0.695</td>  <th>  Prob(JB):          </th> <td>4.70e-266</td>\n",
       "</tr>\n",
       "<tr>\n",
       "  <th>Kurtosis:</th>      <td> 6.630</td>  <th>  Cond. No.          </th> <td>3.41e+07</td> \n",
       "</tr>\n",
       "</table><br/><br/>Notes:<br/>[1] Standard Errors assume that the covariance matrix of the errors is correctly specified.<br/>[2] The condition number is large, 3.41e+07. This might indicate that there are<br/>strong multicollinearity or other numerical problems."
      ],
      "text/plain": [
       "<class 'statsmodels.iolib.summary.Summary'>\n",
       "\"\"\"\n",
       "                             OLS Regression Results                            \n",
       "===============================================================================\n",
       "Dep. Variable:     np.log(v_SalePrice)   R-squared:                       0.736\n",
       "Model:                             OLS   Adj. R-squared:                  0.735\n",
       "Method:                  Least Squares   F-statistic:                     1079.\n",
       "Date:                 Sun, 03 Apr 2022   Prob (F-statistic):               0.00\n",
       "Time:                         17:52:11   Log-Likelihood:                 300.84\n",
       "No. Observations:                 1941   AIC:                            -589.7\n",
       "Df Residuals:                     1935   BIC:                            -556.3\n",
       "Df Model:                            5                                         \n",
       "Covariance Type:             nonrobust                                         \n",
       "=================================================================================================\n",
       "                                    coef    std err          t      P>|t|      [0.025      0.975]\n",
       "-------------------------------------------------------------------------------------------------\n",
       "Intercept                       -13.2747     12.315     -1.078      0.281     -37.427      10.878\n",
       "v_Yr_Sold                        -0.0139      0.006     -2.357      0.019      -0.026      -0.002\n",
       "v_Overall_Qual                    0.2048      0.004     49.730      0.000       0.197       0.213\n",
       "v_Overall_Cond                    0.0089      0.004      2.025      0.043       0.000       0.018\n",
       "np.log(Q(\"v_Year_Remod/Add\"))     6.8310      0.543     12.573      0.000       5.765       7.897\n",
       "v_Lot_Area                     9.719e-06   6.05e-07     16.073      0.000    8.53e-06    1.09e-05\n",
       "==============================================================================\n",
       "Omnibus:                      298.738   Durbin-Watson:                   1.666\n",
       "Prob(Omnibus):                  0.000   Jarque-Bera (JB):             1221.881\n",
       "Skew:                          -0.695   Prob(JB):                    4.70e-266\n",
       "Kurtosis:                       6.630   Cond. No.                     3.41e+07\n",
       "==============================================================================\n",
       "\n",
       "Notes:\n",
       "[1] Standard Errors assume that the covariance matrix of the errors is correctly specified.\n",
       "[2] The condition number is large, 3.41e+07. This might indicate that there are\n",
       "strong multicollinearity or other numerical problems.\n",
       "\"\"\""
      ]
     },
     "execution_count": 12,
     "metadata": {},
     "output_type": "execute_result"
    }
   ],
   "source": [
    "sm_ols('np.log(v_SalePrice) ~ v_Yr_Sold+v_Overall_Qual+v_Overall_Cond+np.log(Q(\"v_Year_Remod/Add\"))+v_Lot_Area', data = housing_train).fit().summary()\n"
   ]
  },
  {
   "cell_type": "markdown",
   "metadata": {},
   "source": [
    "\n",
    "**Bonus formatting trick:** Instead of reporting all regressions separately, report all seven regressions in a _single_ table using `summary_col`."
   ]
  },
  {
   "cell_type": "code",
   "execution_count": 13,
   "metadata": {},
   "outputs": [
    {
     "name": "stdout",
     "output_type": "stream",
     "text": [
      "\n",
      "=========================================================================================================\n",
      "                                 Model 1       Model 2      Model 3  Model 4  Model 5   Model 6  Model 7 \n",
      "---------------------------------------------------------------------------------------------------------\n",
      "Intercept                     154789.550*** -327915.802*** 11.894*** 9.405*** 22.293   12.023*** -13.275 \n",
      "                              (2911.591)    (30221.347)    (0.015)   (0.151)  (22.937) (0.016)   (12.315)\n",
      "R-squared                     0.067         0.128          0.065     0.135    0.000    0.001     0.736   \n",
      "R-squared Adj.                0.066         0.128          0.064     0.135    -0.000   0.000     0.735   \n",
      "np.log(Q(\"v_Year_Remod/Add\"))                                                                    6.831***\n",
      "                                                                                                 (0.543) \n",
      "np.log(v_Lot_Area)                          56028.170***             0.288***                            \n",
      "                                            (3315.139)               (0.017)                             \n",
      "v_Lot_Area                    2.649***                     0.000***                              0.000***\n",
      "                              (0.225)                      (0.000)                               (0.000) \n",
      "v_Overall_Cond                                                                                   0.009** \n",
      "                                                                                                 (0.004) \n",
      "v_Overall_Qual                                                                                   0.205***\n",
      "                                                                                                 (0.004) \n",
      "v_Yr_Sold                                                                     -0.005             -0.014**\n",
      "                                                                              (0.011)            (0.006) \n",
      "v_Yr_Sold == 2007[T.True]                                                              0.026             \n",
      "                                                                                       (0.022)           \n",
      "v_Yr_Sold == 2008[T.True]                                                              -0.010            \n",
      "                                                                                       (0.023)           \n",
      "=========================================================================================================\n",
      "Standard errors in parentheses.\n",
      "* p<.1, ** p<.05, ***p<.01\n"
     ]
    }
   ],
   "source": [
    "mod_1=sm_ols('v_SalePrice ~ v_Lot_Area', data = housing_train).fit()\n",
    "mod_2=sm_ols('v_SalePrice ~ np.log(v_Lot_Area)', data = housing_train).fit()\n",
    "mod_3=sm_ols('np.log(v_SalePrice) ~ v_Lot_Area', data = housing_train).fit()\n",
    "mod_4=sm_ols('np.log(v_SalePrice) ~ np.log(v_Lot_Area)', data = housing_train).fit()\n",
    "mod_5=sm_ols('np.log(v_SalePrice) ~ v_Yr_Sold', data = housing_train).fit()\n",
    "mod_6=sm_ols('np.log(v_SalePrice) ~ (v_Yr_Sold==2007)+(v_Yr_Sold==2008)', data = housing_train).fit()\n",
    "mod_7=sm_ols('np.log(v_SalePrice) ~ v_Yr_Sold+v_Overall_Qual+v_Overall_Cond+np.log(Q(\"v_Year_Remod/Add\"))+v_Lot_Area', data = housing_train).fit()\n",
    "\n",
    "from statsmodels.iolib.summary2 import summary_col\n",
    "print(summary_col(results=[mod_1,mod_2,mod_3,mod_4,mod_5,mod_6,mod_7],\n",
    "                  float_format='%0.3f',\n",
    "                  stars = True,\n",
    "                  model_names=['Model 1','Model 2','Model 3','Model 4','Model 5','Model 6','Model 7']))\n",
    "#summary_col(para)"
   ]
  },
  {
   "cell_type": "markdown",
   "metadata": {},
   "source": [
    "## Part 3: Regression interpretation\n",
    "\n",
    "_Insert cells as needed below to answer these questions. Note that $i$ is indexing a given house, and $t$ indexes the year of sale._ \n",
    "\n",
    "1. If you didn't use the `summary_col` trick, list $\\beta_1$ for Models 1-6 to make it easier on your graders.\n",
    "\n",
    "Model 1: 2.649, Model 2: 56028.170, Model 3: 1.309e-05, Model 4: 0.2883, Model 5: -0.0051, Model 6: 0.0256"
   ]
  },
  {
   "cell_type": "markdown",
   "metadata": {},
   "source": [
    "2. Interpret $\\beta_1$ in Model 2. \n",
    "\n",
    "If v_Lot_Area increases by 1%, then v_SalePrice increases by about 560.28 units"
   ]
  },
  {
   "cell_type": "markdown",
   "metadata": {},
   "source": [
    "3. Interpret $\\beta_1$ in Model 3. \n",
    "    - HINT: You might need to print out more decimal places. Show at least 2 non-zero digits.\n",
    "    \n",
    "If v_Lot_Area increases 1 unit, then V_SalePrice increases by about 0.001309%."
   ]
  },
  {
   "cell_type": "markdown",
   "metadata": {},
   "source": [
    "4. Of models 1-4, which do you think best explains the data and why?\n",
    "\n",
    "Model 4 best represents the data because it has the highest R2 value. "
   ]
  },
  {
   "cell_type": "markdown",
   "metadata": {},
   "source": [
    "5. Interpret $\\beta_1$ In Model 5\n",
    "\n",
    "If Log(v_SalePrice) increases by 1 unit, then v_Yr_Sold decreases by about 0.51%"
   ]
  },
  {
   "cell_type": "markdown",
   "metadata": {},
   "source": [
    "6. Interpret $\\alpha$ in Model 6\n",
    "\n",
    "The average value of log(v_SalePrice) is 12.0229 for group 0 (because v_Yr_Sold_2007=v_Yr_Sold_2008=0 if v_Yr_Sold=0)"
   ]
  },
  {
   "cell_type": "markdown",
   "metadata": {},
   "source": [
    "7. Interpret $\\beta_1$ in Model 6\n",
    "\n",
    "v_SalePrice is about 2.56% higher on average for cases when v_Yr_Sold=2008 than when v_Yr_Sold=2007."
   ]
  },
  {
   "cell_type": "markdown",
   "metadata": {},
   "source": [
    "8. Why is the R2 of Model 6 higher than the R2 of Model 5?\n",
    "\n",
    "In both models X, v_Yr_Sold, is a categorical variable and in model 5 we only use the base value. In model 6 it is a better representation becasue it specifys the regression for year 2007 and 2008"
   ]
  },
  {
   "cell_type": "markdown",
   "metadata": {},
   "source": [
    "9. What variables did you include in Model 7?\n",
    "\n",
    "v_Yr_Sold, v_Overall_Qual, v_Overall_Cond, log(v_Year_Remod/Add), and v_Lot_Area"
   ]
  },
  {
   "cell_type": "markdown",
   "metadata": {},
   "source": [
    "10. What is the R2 of your Model 7?\n",
    "\n",
    "0.736"
   ]
  },
  {
   "cell_type": "markdown",
   "metadata": {},
   "source": [
    "11. Speculate (not graded): Could you use the specification of Model 6 in a predictive regression? \n",
    "\n",
    "Yes, becasue the model does fit the data. Its R2 is 0.001, and as long as it is not 0 then you can use it in a predicitive regression. "
   ]
  },
  {
   "cell_type": "markdown",
   "metadata": {},
   "source": [
    "12. Speculate (not graded): Could you use the specification of Model 5 in a predictive regression? \n",
    "\n",
    "You cannot use this model in a predicitive regression because R2=0 which means it does not fit the data at all. "
   ]
  },
  {
   "cell_type": "code",
   "execution_count": null,
   "metadata": {},
   "outputs": [],
   "source": []
  },
  {
   "cell_type": "code",
   "execution_count": null,
   "metadata": {},
   "outputs": [],
   "source": []
  }
 ],
 "metadata": {
  "kernelspec": {
   "display_name": "Python 3",
   "language": "python",
   "name": "python3"
  },
  "language_info": {
   "codemirror_mode": {
    "name": "ipython",
    "version": 3
   },
   "file_extension": ".py",
   "mimetype": "text/x-python",
   "name": "python",
   "nbconvert_exporter": "python",
   "pygments_lexer": "ipython3",
   "version": "3.8.8"
  }
 },
 "nbformat": 4,
 "nbformat_minor": 4
}
